{
 "cells": [
  {
   "cell_type": "code",
   "execution_count": 148,
   "metadata": {},
   "outputs": [],
   "source": [
    "##\n",
    "# Lets create the file\n",
    "##\n",
    "\n",
    "import turicreate as tc\n",
    "import csv\n",
    "\n",
    "with open('trainingData.csv', 'rb') as trainingData:\n",
    "    sf = tc.SFrame.read_csv('trainingData.csv', delimiter=',', header=True, verbose=False)\n",
    "        \n",
    "sf.save('trainingData.sframe')\n",
    "\n",
    "with open('validationData.csv', 'rb') as validationData :\n",
    "    vsf = tc.SFrame.read_csv('validationData.csv', delimiter=',', header=True, verbose=False)\n",
    "    \n",
    "vsf.save('validationData.sframe')\n"
   ]
  },
  {
   "cell_type": "code",
   "execution_count": 149,
   "metadata": {},
   "outputs": [
    {
     "data": {
      "text/html": [
       "<pre>Pre-processing 311 samples...</pre>"
      ],
      "text/plain": [
       "Pre-processing 311 samples..."
      ]
     },
     "metadata": {},
     "output_type": "display_data"
    },
    {
     "data": {
      "text/html": [
       "<pre>Using sequences of size 20 for model creation.</pre>"
      ],
      "text/plain": [
       "Using sequences of size 20 for model creation."
      ]
     },
     "metadata": {},
     "output_type": "display_data"
    },
    {
     "data": {
      "text/html": [
       "<pre>Processed a total of 311 sessions.</pre>"
      ],
      "text/plain": [
       "Processed a total of 311 sessions."
      ]
     },
     "metadata": {},
     "output_type": "display_data"
    },
    {
     "name": "stdout",
     "output_type": "stream",
     "text": [
      "Iteration: 0001\n",
      "\tTrain loss    : 0.172531485 \tTrain accuracy: 0.434913976\n",
      "\tValid loss    : 0.041232791 \tValid accuracy: 0.796288349\n",
      "Iteration: 0002\n",
      "\tTrain loss    : 0.080093853 \tTrain accuracy: 0.585320017\n",
      "\tValid loss    : 0.040658137 \tValid accuracy: 0.870361646\n",
      "Iteration: 0003\n",
      "\tTrain loss    : 0.081291229 \tTrain accuracy: 0.502983896\n",
      "\tValid loss    : 0.028321476 \tValid accuracy: 0.907398330\n",
      "Iteration: 0004\n",
      "\tTrain loss    : 0.050526403 \tTrain accuracy: 0.655427986\n",
      "\tValid loss    : 0.021217629 \tValid accuracy: 0.925916672\n",
      "Iteration: 0005\n",
      "\tTrain loss    : 0.044709937 \tTrain accuracy: 0.619151178\n",
      "\tValid loss    : 0.018386352 \tValid accuracy: 0.907398330\n",
      "Iteration: 0006\n",
      "\tTrain loss    : 0.038163485 \tTrain accuracy: 0.682194024\n",
      "\tValid loss    : 0.015146163 \tValid accuracy: 0.962953285\n",
      "Iteration: 0007\n",
      "\tTrain loss    : 0.030040659 \tTrain accuracy: 0.757736707\n",
      "\tValid loss    : 0.013127611 \tValid accuracy: 0.962953285\n",
      "Iteration: 0008\n",
      "\tTrain loss    : 0.030838386 \tTrain accuracy: 0.767790949\n",
      "\tValid loss    : 0.011914908 \tValid accuracy: 0.962953285\n",
      "Iteration: 0009\n",
      "\tTrain loss    : 0.030746848 \tTrain accuracy: 0.749584603\n",
      "\tValid loss    : 0.014049020 \tValid accuracy: 0.944434978\n",
      "Iteration: 0010\n",
      "\tTrain loss    : 0.026859289 \tTrain accuracy: 0.767655081\n",
      "\tValid loss    : 0.010935948 \tValid accuracy: 0.962953285\n",
      "Training complete\n",
      "Total Time Spent: 11.9849s\n",
      "(Columns:\n",
      "\ttarget_label\tstr\n",
      "\tpredicted_label\tstr\n",
      "\tcount\tint\n",
      "\n",
      "Rows: 9\n",
      "\n",
      "Data:\n",
      "+---------------+-----------------+-------+\n",
      "|  target_label | predicted_label | count |\n",
      "+---------------+-----------------+-------+\n",
      "|    tiltLeft   |     tiltLeft    |   27  |\n",
      "|    tiltLeft   |   tiltLeftBack  |   5   |\n",
      "|  tiltLeftBack |     tiltLeft    |   1   |\n",
      "|  tiltLeftBack |   tiltLeftBack  |   28  |\n",
      "| tiltRightBack |     tiltLeft    |   1   |\n",
      "|  tiltLeftBack |    tiltRight    |   1   |\n",
      "|   tiltRight   |  tiltRightBack  |   1   |\n",
      "| tiltRightBack |  tiltRightBack  |   5   |\n",
      "|   tiltRight   |    tiltRight    |   8   |\n",
      "+---------------+-----------------+-------+\n",
      "[9 rows x 3 columns]\n",
      ", 0.8831168831168831)\n"
     ]
    }
   ],
   "source": [
    "##\n",
    "# Let manipulate said file - Oh yea\n",
    "##\n",
    "\n",
    "import turicreate as tc\n",
    "\n",
    "# Load sessions from preprocessed data\n",
    "data = tc.SFrame('trainingData.sframe')\n",
    "validationSet = tc.SFrame('validationData.sframe')\n",
    "\n",
    "# Train/test split by recording sessions\n",
    "train, test = tc.activity_classifier.util.random_split_by_session(data, session_id='id', fraction=0.8)\n",
    "\n",
    "# Create an activity classifier\n",
    "model = tc.activity_classifier.create(train, session_id='id', prediction_window=1, target='type', validation_set=validationSet)\n",
    "\n",
    "# Evaluate the model and save the results into a dictionary\n",
    "metrics = model.evaluate(test)\n",
    "print(metrics['confusion_matrix'], metrics['accuracy'])\n",
    "\n",
    "# Save the model for later use in Turi Create\n",
    "model.save('activityClassifier.model')\n",
    "\n",
    "# Export for use in Core ML\n",
    "model.export_coreml('activityClassifier.mlmodel')"
   ]
  },
  {
   "cell_type": "code",
   "execution_count": 143,
   "metadata": {},
   "outputs": [
    {
     "data": {
      "text/plain": [
       "dtype: str\n",
       "Rows: 1\n",
       "['tiltLeft']"
      ]
     },
     "execution_count": 143,
     "metadata": {},
     "output_type": "execute_result"
    }
   ],
   "source": [
    "###\n",
    "# Model Test\n",
    "###\n",
    "\n",
    "dat = validationSet[validationSet['id'] == 'C9609E99-6C6F-4FB8-9B68-BEDFFEE6B2FF']\n",
    "model.predict(dat, output_frequency='per_row')"
   ]
  },
  {
   "cell_type": "code",
   "execution_count": 32,
   "metadata": {},
   "outputs": [
    {
     "data": {
      "text/html": [
       "<div style=\"max-height:1000px;max-width:1500px;overflow:auto;\"><table frame=\"box\" rules=\"cols\">\n",
       "    <tr>\n",
       "        <th style=\"padding-left: 1em; padding-right: 1em; text-align: center\">type</th>\n",
       "        <th style=\"padding-left: 1em; padding-right: 1em; text-align: center\">xaccl</th>\n",
       "        <th style=\"padding-left: 1em; padding-right: 1em; text-align: center\">yaccl</th>\n",
       "        <th style=\"padding-left: 1em; padding-right: 1em; text-align: center\">zaccl</th>\n",
       "        <th style=\"padding-left: 1em; padding-right: 1em; text-align: center\">xmagnet</th>\n",
       "        <th style=\"padding-left: 1em; padding-right: 1em; text-align: center\">ymagnet</th>\n",
       "        <th style=\"padding-left: 1em; padding-right: 1em; text-align: center\">zmagnet</th>\n",
       "        <th style=\"padding-left: 1em; padding-right: 1em; text-align: center\">xgyro</th>\n",
       "        <th style=\"padding-left: 1em; padding-right: 1em; text-align: center\">ygyro</th>\n",
       "        <th style=\"padding-left: 1em; padding-right: 1em; text-align: center\">zgyro</th>\n",
       "        <th style=\"padding-left: 1em; padding-right: 1em; text-align: center\">id</th>\n",
       "    </tr>\n",
       "</table>\n",
       "[0 rows x 11 columns]<br/>\n",
       "</div>"
      ],
      "text/plain": [
       "Columns:\n",
       "\ttype\tstr\n",
       "\txaccl\tfloat\n",
       "\tyaccl\tfloat\n",
       "\tzaccl\tfloat\n",
       "\txmagnet\tfloat\n",
       "\tymagnet\tfloat\n",
       "\tzmagnet\tfloat\n",
       "\txgyro\tfloat\n",
       "\tygyro\tfloat\n",
       "\tzgyro\tfloat\n",
       "\tid\tstr\n",
       "\n",
       "Rows: 0\n",
       "\n",
       "Data:\n",
       "\t[]"
      ]
     },
     "execution_count": 32,
     "metadata": {},
     "output_type": "execute_result"
    }
   ],
   "source": []
  },
  {
   "cell_type": "code",
   "execution_count": null,
   "metadata": {},
   "outputs": [],
   "source": []
  }
 ],
 "metadata": {
  "kernelspec": {
   "display_name": "Python 2",
   "language": "python",
   "name": "python2"
  },
  "language_info": {
   "codemirror_mode": {
    "name": "ipython",
    "version": 2
   },
   "file_extension": ".py",
   "mimetype": "text/x-python",
   "name": "python",
   "nbconvert_exporter": "python",
   "pygments_lexer": "ipython2",
   "version": "2.7.12"
  }
 },
 "nbformat": 4,
 "nbformat_minor": 2
}
